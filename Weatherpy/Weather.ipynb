{
 "cells": [
  {
   "cell_type": "code",
   "execution_count": 3,
   "metadata": {
    "scrolled": true
   },
   "outputs": [],
   "source": [
    "# Importing Dependencies\n",
    "import pandas as pd\n",
    "import matplotlib.pyplot as plt\n",
    "import numpy as np\n",
    "import requests\n",
    "import json\n",
    "\n",
    "from api_keys import weather_api_key\n",
    "from citipy import citipy"
   ]
  },
  {
   "cell_type": "code",
   "execution_count": 4,
   "metadata": {
    "scrolled": true
   },
   "outputs": [],
   "source": [
    "long = (-180,180)\n",
    "lat = (-90,90)"
   ]
  },
  {
   "cell_type": "code",
   "execution_count": 5,
   "metadata": {
    "scrolled": true
   },
   "outputs": [
    {
     "data": {
      "text/plain": [
       "607"
      ]
     },
     "execution_count": 5,
     "metadata": {},
     "output_type": "execute_result"
    }
   ],
   "source": [
    "# List for holding lat_lngs and cities\n",
    "lat_lngs = []\n",
    "cities = []\n",
    "\n",
    "# Create a set of random lat and lng combinations\n",
    "lats = np.random.uniform(lat[0], lat[1], size=1500)\n",
    "lngs = np.random.uniform(long[0], long[1], size=1500)\n",
    "lat_lngs = zip(lats, lngs)\n",
    "\n",
    "# Identify nearest city for each lat, lng combination\n",
    "for lat_lng in lat_lngs:\n",
    "    city = citipy.nearest_city(lat_lng[0], lat_lng[1]).city_name\n",
    "    \n",
    "    # If the city is unique, then add it to a our cities list\n",
    "    if city not in cities:\n",
    "        cities.append(city)\n",
    "\n",
    "# Print the city count to confirm sufficient count\n",
    "len(cities)"
   ]
  },
  {
   "cell_type": "code",
   "execution_count": 6,
   "metadata": {
    "scrolled": true
   },
   "outputs": [],
   "source": [
    "# url = \"http://api.openweathermap.org/data/2.5/weather?\"\n",
    "# cities = ['New York City','London','Gitignore','Beijing','Cape Town','Syndey','Moscow']\n",
    "\n",
    "## Starter code needed for a loop\n",
    "# for i in range(10):\n",
    "#     query_url = url + \"appid=\" + weather_api_key + \"&q=\" + cities[i]\n",
    "#     response = requests.get(query_url)\n",
    "#     response_json = response.json()\n",
    "#     print(f'City name: {cities[i]}')\n"
   ]
  },
  {
   "cell_type": "code",
   "execution_count": 12,
   "metadata": {
    "scrolled": true
   },
   "outputs": [
    {
     "name": "stdout",
     "output_type": "stream",
     "text": [
      "{\n",
      "    \"base\": \"stations\",\n",
      "    \"clouds\": {\n",
      "        \"all\": 90\n",
      "    },\n",
      "    \"cod\": 200,\n",
      "    \"coord\": {\n",
      "        \"lat\": 40.71,\n",
      "        \"lon\": -74.01\n",
      "    },\n",
      "    \"dt\": 1602643500,\n",
      "    \"id\": 5128581,\n",
      "    \"main\": {\n",
      "        \"feels_like\": 287.38,\n",
      "        \"humidity\": 87,\n",
      "        \"pressure\": 1013,\n",
      "        \"temp\": 287.69,\n",
      "        \"temp_max\": 288.71,\n",
      "        \"temp_min\": 287.04\n",
      "    },\n",
      "    \"name\": \"New York\",\n",
      "    \"sys\": {\n",
      "        \"country\": \"US\",\n",
      "        \"id\": 4610,\n",
      "        \"sunrise\": 1602587122,\n",
      "        \"sunset\": 1602627515,\n",
      "        \"type\": 1\n",
      "    },\n",
      "    \"timezone\": -14400,\n",
      "    \"visibility\": 10000,\n",
      "    \"weather\": [\n",
      "        {\n",
      "            \"description\": \"overcast clouds\",\n",
      "            \"icon\": \"04n\",\n",
      "            \"id\": 804,\n",
      "            \"main\": \"Clouds\"\n",
      "        }\n",
      "    ],\n",
      "    \"wind\": {\n",
      "        \"deg\": 0,\n",
      "        \"speed\": 1.5\n",
      "    }\n",
      "}\n",
      "{\n",
      "    \"base\": \"stations\",\n",
      "    \"clouds\": {\n",
      "        \"all\": 95\n",
      "    },\n",
      "    \"cod\": 200,\n",
      "    \"coord\": {\n",
      "        \"lat\": 51.51,\n",
      "        \"lon\": -0.13\n",
      "    },\n",
      "    \"dt\": 1602643228,\n",
      "    \"id\": 2643743,\n",
      "    \"main\": {\n",
      "        \"feels_like\": 279.18,\n",
      "        \"humidity\": 87,\n",
      "        \"pressure\": 1016,\n",
      "        \"temp\": 282.36,\n",
      "        \"temp_max\": 283.15,\n",
      "        \"temp_min\": 281.48\n",
      "    },\n",
      "    \"name\": \"London\",\n",
      "    \"sys\": {\n",
      "        \"country\": \"GB\",\n",
      "        \"id\": 1414,\n",
      "        \"sunrise\": 1602656589,\n",
      "        \"sunset\": 1602695364,\n",
      "        \"type\": 1\n",
      "    },\n",
      "    \"timezone\": 3600,\n",
      "    \"visibility\": 10000,\n",
      "    \"weather\": [\n",
      "        {\n",
      "            \"description\": \"overcast clouds\",\n",
      "            \"icon\": \"04n\",\n",
      "            \"id\": 804,\n",
      "            \"main\": \"Clouds\"\n",
      "        }\n",
      "    ],\n",
      "    \"wind\": {\n",
      "        \"deg\": 50,\n",
      "        \"speed\": 3.6\n",
      "    }\n",
      "}\n",
      "{\n",
      "    \"cod\": \"404\",\n",
      "    \"message\": \"city not found\"\n",
      "}\n",
      "{\n",
      "    \"base\": \"stations\",\n",
      "    \"clouds\": {\n",
      "        \"all\": 86\n",
      "    },\n",
      "    \"cod\": 200,\n",
      "    \"coord\": {\n",
      "        \"lat\": 39.91,\n",
      "        \"lon\": 116.4\n",
      "    },\n",
      "    \"dt\": 1602643695,\n",
      "    \"id\": 1816670,\n",
      "    \"main\": {\n",
      "        \"feels_like\": 282.17,\n",
      "        \"humidity\": 24,\n",
      "        \"pressure\": 1032,\n",
      "        \"temp\": 287.02,\n",
      "        \"temp_max\": 287.59,\n",
      "        \"temp_min\": 286.15\n",
      "    },\n",
      "    \"name\": \"Beijing\",\n",
      "    \"sys\": {\n",
      "        \"country\": \"CN\",\n",
      "        \"id\": 9609,\n",
      "        \"sunrise\": 1602627809,\n",
      "        \"sunset\": 1602668218,\n",
      "        \"type\": 1\n",
      "    },\n",
      "    \"timezone\": 28800,\n",
      "    \"visibility\": 10000,\n",
      "    \"weather\": [\n",
      "        {\n",
      "            \"description\": \"overcast clouds\",\n",
      "            \"icon\": \"04d\",\n",
      "            \"id\": 804,\n",
      "            \"main\": \"Clouds\"\n",
      "        }\n",
      "    ],\n",
      "    \"wind\": {\n",
      "        \"deg\": 150,\n",
      "        \"speed\": 3\n",
      "    }\n",
      "}\n",
      "{\n",
      "    \"base\": \"stations\",\n",
      "    \"clouds\": {\n",
      "        \"all\": 0\n",
      "    },\n",
      "    \"cod\": 200,\n",
      "    \"coord\": {\n",
      "        \"lat\": -33.93,\n",
      "        \"lon\": 18.42\n",
      "    },\n",
      "    \"dt\": 1602643607,\n",
      "    \"id\": 3369157,\n",
      "    \"main\": {\n",
      "        \"feels_like\": 281.05,\n",
      "        \"humidity\": 71,\n",
      "        \"pressure\": 1021,\n",
      "        \"temp\": 285.31,\n",
      "        \"temp_max\": 286.48,\n",
      "        \"temp_min\": 284.82\n",
      "    },\n",
      "    \"name\": \"Cape Town\",\n",
      "    \"sys\": {\n",
      "        \"country\": \"ZA\",\n",
      "        \"id\": 1899,\n",
      "        \"sunrise\": 1602648330,\n",
      "        \"sunset\": 1602694720,\n",
      "        \"type\": 1\n",
      "    },\n",
      "    \"timezone\": 7200,\n",
      "    \"visibility\": 10000,\n",
      "    \"weather\": [\n",
      "        {\n",
      "            \"description\": \"clear sky\",\n",
      "            \"icon\": \"01n\",\n",
      "            \"id\": 800,\n",
      "            \"main\": \"Clear\"\n",
      "        }\n",
      "    ],\n",
      "    \"wind\": {\n",
      "        \"deg\": 180,\n",
      "        \"speed\": 5.1\n",
      "    }\n",
      "}\n",
      "{\n",
      "    \"cod\": \"404\",\n",
      "    \"message\": \"city not found\"\n",
      "}\n",
      "{\n",
      "    \"base\": \"stations\",\n",
      "    \"clouds\": {\n",
      "        \"all\": 7\n",
      "    },\n",
      "    \"cod\": 200,\n",
      "    \"coord\": {\n",
      "        \"lat\": 55.75,\n",
      "        \"lon\": 37.62\n",
      "    },\n",
      "    \"dt\": 1602643724,\n",
      "    \"id\": 524901,\n",
      "    \"main\": {\n",
      "        \"feels_like\": 282.71,\n",
      "        \"humidity\": 100,\n",
      "        \"pressure\": 1016,\n",
      "        \"temp\": 283.32,\n",
      "        \"temp_max\": 285.37,\n",
      "        \"temp_min\": 281.15\n",
      "    },\n",
      "    \"name\": \"Moscow\",\n",
      "    \"sys\": {\n",
      "        \"country\": \"RU\",\n",
      "        \"id\": 9029,\n",
      "        \"sunrise\": 1602647912,\n",
      "        \"sunset\": 1602685923,\n",
      "        \"type\": 1\n",
      "    },\n",
      "    \"timezone\": 10800,\n",
      "    \"visibility\": 5000,\n",
      "    \"weather\": [\n",
      "        {\n",
      "            \"description\": \"mist\",\n",
      "            \"icon\": \"50n\",\n",
      "            \"id\": 701,\n",
      "            \"main\": \"Mist\"\n",
      "        }\n",
      "    ],\n",
      "    \"wind\": {\n",
      "        \"deg\": 90,\n",
      "        \"speed\": 1\n",
      "    }\n",
      "}\n"
     ]
    }
   ],
   "source": [
    "url = \"http://api.openweathermap.org/data/2.5/weather?\"\n",
    "my_city = ['New York City','London','Gitignore','Beijing','Cape Town','Syndey','Moscow']\n",
    "\n",
    "for i in range(len(my_city)):\n",
    "    query_url = url + \"appid=\" + weather_api_key + \"&q=\" + my_city[i]\n",
    "    response = requests.get(query_url)\n",
    "    weather_data = response.json()\n",
    "    print(json.dumps(weather_data,indent = 4, sort_keys = True))"
   ]
  },
  {
   "cell_type": "code",
   "execution_count": 13,
   "metadata": {},
   "outputs": [
    {
     "data": {
      "text/plain": [
       "{'coord': {'lon': 37.62, 'lat': 55.75},\n",
       " 'weather': [{'id': 701,\n",
       "   'main': 'Mist',\n",
       "   'description': 'mist',\n",
       "   'icon': '50n'}],\n",
       " 'base': 'stations',\n",
       " 'main': {'temp': 283.32,\n",
       "  'feels_like': 282.71,\n",
       "  'temp_min': 281.15,\n",
       "  'temp_max': 285.37,\n",
       "  'pressure': 1016,\n",
       "  'humidity': 100},\n",
       " 'visibility': 5000,\n",
       " 'wind': {'speed': 1, 'deg': 90},\n",
       " 'clouds': {'all': 7},\n",
       " 'dt': 1602643724,\n",
       " 'sys': {'type': 1,\n",
       "  'id': 9029,\n",
       "  'country': 'RU',\n",
       "  'sunrise': 1602647912,\n",
       "  'sunset': 1602685923},\n",
       " 'timezone': 10800,\n",
       " 'id': 524901,\n",
       " 'name': 'Moscow',\n",
       " 'cod': 200}"
      ]
     },
     "execution_count": 13,
     "metadata": {},
     "output_type": "execute_result"
    }
   ],
   "source": [
    "weather_data"
   ]
  },
  {
   "cell_type": "code",
   "execution_count": null,
   "metadata": {},
   "outputs": [],
   "source": []
  },
  {
   "cell_type": "code",
   "execution_count": 9,
   "metadata": {
    "scrolled": true
   },
   "outputs": [
    {
     "name": "stdout",
     "output_type": "stream",
     "text": [
      "Why\n"
     ]
    }
   ],
   "source": [
    "print('Why')"
   ]
  },
  {
   "cell_type": "code",
   "execution_count": 10,
   "metadata": {
    "scrolled": true
   },
   "outputs": [
    {
     "data": {
      "text/plain": [
       "'for my sanity'"
      ]
     },
     "execution_count": 10,
     "metadata": {},
     "output_type": "execute_result"
    }
   ],
   "source": [
    "\"for my sanity\""
   ]
  }
 ],
 "metadata": {
  "kernelspec": {
   "display_name": "Python 3",
   "language": "python",
   "name": "python3"
  },
  "language_info": {
   "codemirror_mode": {
    "name": "ipython",
    "version": 3
   },
   "file_extension": ".py",
   "mimetype": "text/x-python",
   "name": "python",
   "nbconvert_exporter": "python",
   "pygments_lexer": "ipython3",
   "version": "3.7.7"
  }
 },
 "nbformat": 4,
 "nbformat_minor": 4
}
