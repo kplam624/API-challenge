{
 "cells": [
  {
   "cell_type": "code",
   "execution_count": null,
   "metadata": {
    "scrolled": true
   },
   "outputs": [],
   "source": [
    "# Import the dependencies\n",
    "import matplotlib.pyplot as plt\n",
    "import numpy as np\n",
    "import pandas as pd\n",
    "import requests\n",
    "import json\n",
    "import gmaps\n",
    "import os\n",
    "\n",
    "# Setting the api key\n",
    "from api_keys import g_key"
   ]
  },
  {
   "cell_type": "code",
   "execution_count": null,
   "metadata": {
    "scrolled": true
   },
   "outputs": [],
   "source": [
    "# Create a new dataframe called vacation\n",
    "file = \"../Weatherpy/output/weatherpy.csv\"\n",
    "vacation = pd.read_csv(file)\n",
    "vacation.head()"
   ]
  },
  {
   "cell_type": "code",
   "execution_count": null,
   "metadata": {
    "scrolled": true
   },
   "outputs": [],
   "source": [
    "# Configure the api key\n",
    "gmaps.configure(api_key=g_key)"
   ]
  },
  {
   "cell_type": "code",
   "execution_count": null,
   "metadata": {
    "scrolled": true
   },
   "outputs": [],
   "source": [
    "# Finding the location of each city and setting the humidity value.\n",
    "locations = vacation[[\"Latitude\", \"Longitude\"]].astype(float)\n",
    "humidity = vacation['Humidity']"
   ]
  },
  {
   "cell_type": "code",
   "execution_count": null,
   "metadata": {
    "scrolled": false
   },
   "outputs": [],
   "source": [
    "# Creating a figure for gmaps\n",
    "fig = gmaps.figure()\n",
    "\n",
    "# Create a heat layer for the gmap with the weight being humidity.\n",
    "heat_layer = gmaps.heatmap_layer(locations, weights=humidity, \n",
    "                                 dissipating=False, max_intensity=vacation['Humidity'].max(),\n",
    "                                 point_radius = 2)\n",
    "\n",
    "# Adds the heat layer.\n",
    "fig.add_layer(heat_layer)\n",
    "\n",
    "# Shows the figure.\n",
    "fig"
   ]
  },
  {
   "cell_type": "code",
   "execution_count": null,
   "metadata": {
    "scrolled": true
   },
   "outputs": [],
   "source": [
    "# Adds a new column in vacation dataframe.\n",
    "vacation[\"Hotel Name\"]= \"\"\n",
    "\n",
    "# To find the comfortable vacation conditions \n",
    "hotel_df = vacation.loc[(vacation['Temperature'] > 70)&\n",
    "                        (vacation['Temperature'] < 85)&\n",
    "                        (vacation['Cloudiness'] == 0)&\n",
    "                        (vacation['Wind Speed'] < 5)]\n",
    "hotel_df"
   ]
  },
  {
   "cell_type": "code",
   "execution_count": null,
   "metadata": {},
   "outputs": [],
   "source": [
    "# Creating a new url to find hotels within 5000 meters.\n",
    "base_url = \"https://maps.googleapis.com/maps/api/place/nearbysearch/json\"\n",
    "radius = 5000\n",
    "\n",
    "# Creating parameters to find specifically hotels.\n",
    "param = {\n",
    "    \"radius\" : radius,\n",
    "    \"types\" : \"lodgings\",\n",
    "    \"key\" : g_key\n",
    "}\n",
    "\n",
    "# To go through all the rows and pull the coordinates.\n",
    "for index, rows in hotel_df.iterrows():\n",
    "    lat = rows['Latitude']\n",
    "    lng = rows['Longitude']\n",
    "\n",
    "# Adding a new parameter, location\n",
    "    param[\"location\"] = f'{lat},{lng}'\n",
    "\n",
    "# Creating an api request\n",
    "    hotels = requests.get(base_url,params = param)\n",
    "    hotels = hotels.json()\n",
    "\n",
    "# Will append the hotel name and if there does not exist a hotel, it will skip.\n",
    "    try:\n",
    "        hotel_df.loc[index,\"Hotel Name\"] = hotels['results'][1]['name']\n",
    "    except(KeyError, IndexError):\n",
    "        print('Hotel not found')\n",
    "    "
   ]
  },
  {
   "cell_type": "code",
   "execution_count": null,
   "metadata": {
    "scrolled": true
   },
   "outputs": [],
   "source": [
    "# If there are empty values(Hotels not in vacinity)\n",
    "# removes the value\n",
    "hotel_df = hotel_df.replace(r'^\\s*$', np.NaN, regex=True)\n",
    "hotel_df = hotel_df.dropna(how = 'any')\n",
    "hotel_df"
   ]
  },
  {
   "cell_type": "code",
   "execution_count": null,
   "metadata": {},
   "outputs": [],
   "source": [
    "# Creates a template for the hotel markers\n",
    "info_box_template = \"\"\"\n",
    "<dl>\n",
    "<dt>Name</dt><dd>{Hotel Name}</dd>\n",
    "<dt>City</dt><dd>{City}</dd>\n",
    "<dt>Country</dt><dd>{Country}</dd>\n",
    "</dl>\n",
    "\"\"\"\n",
    "\n",
    "# For loop to run through the dataframe.\n",
    "# Pulls information and uses the template above.\n",
    "hotel_info = [info_box_template.format(**row) for index, row in hotel_df.iterrows()]\n",
    "\n",
    "# Location of each hotel\n",
    "locations = hotel_df[[\"Latitude\", \"Longitude\"]]"
   ]
  },
  {
   "cell_type": "code",
   "execution_count": null,
   "metadata": {},
   "outputs": [],
   "source": [
    "# New figure\n",
    "fig = gmaps.figure()\n",
    "\n",
    "# New layer called hotel\n",
    "# Add it to the figure\n",
    "hotel_layer = gmaps.marker_layer(locations, info_box_content = hotel_info)\n",
    "fig.add_layer(hotel_layer)\n",
    "\n",
    "fig"
   ]
  },
  {
   "cell_type": "code",
   "execution_count": null,
   "metadata": {},
   "outputs": [],
   "source": [
    "# Create a new figure and combine both layers.\n",
    "fig = gmaps.figure()\n",
    "\n",
    "fig.add_layer(heat_layer)\n",
    "fig.add_layer(hotel_layer)\n",
    "\n",
    "fig"
   ]
  },
  {
   "cell_type": "code",
   "execution_count": null,
   "metadata": {},
   "outputs": [],
   "source": []
  }
 ],
 "metadata": {
  "kernelspec": {
   "display_name": "Python 3",
   "language": "python",
   "name": "python3"
  },
  "language_info": {
   "codemirror_mode": {
    "name": "ipython",
    "version": 3
   },
   "file_extension": ".py",
   "mimetype": "text/x-python",
   "name": "python",
   "nbconvert_exporter": "python",
   "pygments_lexer": "ipython3",
   "version": "3.7.7"
  }
 },
 "nbformat": 4,
 "nbformat_minor": 4
}
